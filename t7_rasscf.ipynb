{
 "cells": [
  {
   "cell_type": "code",
   "execution_count": 1,
   "id": "174a51b5",
   "metadata": {},
   "outputs": [],
   "source": [
    "import h5py"
   ]
  },
  {
   "cell_type": "code",
   "execution_count": 2,
   "id": "b4ee72e9",
   "metadata": {},
   "outputs": [],
   "source": [
    "f= h5py.File('t7.rasscf.h5', 'r')"
   ]
  },
  {
   "cell_type": "code",
   "execution_count": 3,
   "id": "6068b829",
   "metadata": {},
   "outputs": [
    {
     "data": {
      "text/plain": [
       "<KeysViewHDF5 ['AO_FOCKINT_MATRIX', 'AO_MLTPL_X', 'AO_MLTPL_XX', 'AO_MLTPL_XY', 'AO_MLTPL_XZ', 'AO_MLTPL_Y', 'AO_MLTPL_YY', 'AO_MLTPL_YZ', 'AO_MLTPL_Z', 'AO_MLTPL_ZZ', 'AO_OVERLAP_MATRIX', 'BASIS_FUNCTION_IDS', 'CENTER_ATNUMS', 'CENTER_CHARGES', 'CENTER_COORDINATES', 'CENTER_LABELS', 'CI_VECTORS', 'DENSITY_MATRIX', 'MLTPL_ORIG', 'MO_ENERGIES', 'MO_OCCUPATIONS', 'MO_TYPEINDICES', 'MO_VECTORS', 'PRIMITIVES', 'PRIMITIVE_IDS', 'ROOT_ENERGIES', 'SPINDENSITY_MATRIX', 'SUPSYM_IRREP_INDICES']>"
      ]
     },
     "execution_count": 3,
     "metadata": {},
     "output_type": "execute_result"
    }
   ],
   "source": [
    "f.keys()"
   ]
  },
  {
   "cell_type": "code",
   "execution_count": 4,
   "id": "1cf40470",
   "metadata": {},
   "outputs": [
    {
     "data": {
      "text/plain": [
       "(list, 28, 'AO_FOCKINT_MATRIX')"
      ]
     },
     "execution_count": 4,
     "metadata": {},
     "output_type": "execute_result"
    }
   ],
   "source": [
    "# saving the keys as the string in the f_list, so that we can call them later\n",
    "f_list = list(f.keys())\n",
    "type(f_list), len(f_list), f_list[0]"
   ]
  },
  {
   "cell_type": "code",
   "execution_count": 5,
   "id": "2fdef3aa",
   "metadata": {},
   "outputs": [],
   "source": [
    "k1 = f['AO_FOCKINT_MATRIX']\n",
    "k1 = k1[:]"
   ]
  },
  {
   "cell_type": "code",
   "execution_count": 6,
   "id": "72c07002",
   "metadata": {},
   "outputs": [],
   "source": [
    "list_data = []"
   ]
  },
  {
   "cell_type": "code",
   "execution_count": 7,
   "id": "46628c93",
   "metadata": {},
   "outputs": [],
   "source": [
    "# Let's open the datasets with the string as the key"
   ]
  },
  {
   "cell_type": "code",
   "execution_count": 8,
   "id": "5b8da111",
   "metadata": {},
   "outputs": [],
   "source": [
    "# 'WFA' is a goup therefore we can not open it as dataset\n",
    "for i in f_list[:]:\n",
    "    key = f[i]\n",
    "    list_data.append(key)"
   ]
  },
  {
   "cell_type": "code",
   "execution_count": 9,
   "id": "09eca30c",
   "metadata": {
    "scrolled": true
   },
   "outputs": [
    {
     "data": {
      "text/plain": [
       "28"
      ]
     },
     "execution_count": 9,
     "metadata": {},
     "output_type": "execute_result"
    }
   ],
   "source": [
    "#list_data\n",
    "len(list_data)"
   ]
  },
  {
   "cell_type": "code",
   "execution_count": 10,
   "id": "b128db0b",
   "metadata": {},
   "outputs": [
    {
     "data": {
      "text/plain": [
       "\"list_data = list_data[1:]\\nlen(list_data)\\nwith h5py.File('new.rasscf.h5', 'w') as data_file:\\n    for i in range(len(f_list)-1):\\n        data_file.create_dataset(f_list[i+1], data = list_data[i])\""
      ]
     },
     "execution_count": 10,
     "metadata": {},
     "output_type": "execute_result"
    }
   ],
   "source": [
    "# lets's edit the list elements/keys, one by one\n",
    "# excluding first element\n",
    "'''list_data = list_data[1:]\n",
    "len(list_data)\n",
    "with h5py.File('new.rasscf.h5', 'w') as data_file:\n",
    "    for i in range(len(f_list)-1):\n",
    "        data_file.create_dataset(f_list[i+1], data = list_data[i])'''"
   ]
  },
  {
   "cell_type": "code",
   "execution_count": 11,
   "id": "c77cb635",
   "metadata": {},
   "outputs": [
    {
     "data": {
      "text/plain": [
       "\"list_data = list_data[10:]\\nlen(list_data)\\nwith h5py.File('new.rasscf.h5', 'w') as data_file:\\n    for i in range(len(f_list)-10):\\n        data_file.create_dataset(f_list[i+10], data = list_data[i])\""
      ]
     },
     "execution_count": 11,
     "metadata": {},
     "output_type": "execute_result"
    }
   ],
   "source": [
    "'''list_data = list_data[10:]\n",
    "len(list_data)\n",
    "with h5py.File('new.rasscf.h5', 'w') as data_file:\n",
    "    for i in range(len(f_list)-10):\n",
    "        data_file.create_dataset(f_list[i+10], data = list_data[i])'''"
   ]
  },
  {
   "cell_type": "code",
   "execution_count": 12,
   "id": "9c01d82c",
   "metadata": {},
   "outputs": [
    {
     "data": {
      "text/plain": [
       "\"list_data = list_data[12:]\\nlen(list_data)\\nwith h5py.File('new.rasscf.h5', 'w') as data_file:\\n    for i in range(len(f_list)-12):\\n        data_file.create_dataset(f_list[i+12], data = list_data[i])\""
      ]
     },
     "execution_count": 12,
     "metadata": {},
     "output_type": "execute_result"
    }
   ],
   "source": [
    "'''list_data = list_data[12:]\n",
    "len(list_data)\n",
    "with h5py.File('new.rasscf.h5', 'w') as data_file:\n",
    "    for i in range(len(f_list)-12):\n",
    "        data_file.create_dataset(f_list[i+12], data = list_data[i])'''"
   ]
  },
  {
   "cell_type": "code",
   "execution_count": 13,
   "id": "92cb8553",
   "metadata": {},
   "outputs": [
    {
     "data": {
      "text/plain": [
       "\"list_data = list_data[13:]\\nlen(list_data)\\nwith h5py.File('new.rasscf.h5', 'w') as data_file:\\n    for i in range(len(f_list)-13):\\n        data_file.create_dataset(f_list[i+13], data = list_data[i])\""
      ]
     },
     "execution_count": 13,
     "metadata": {},
     "output_type": "execute_result"
    }
   ],
   "source": [
    "'''list_data = list_data[13:]\n",
    "len(list_data)\n",
    "with h5py.File('new.rasscf.h5', 'w') as data_file:\n",
    "    for i in range(len(f_list)-13):\n",
    "        data_file.create_dataset(f_list[i+13], data = list_data[i])'''"
   ]
  },
  {
   "cell_type": "code",
   "execution_count": 14,
   "id": "7f186e28",
   "metadata": {},
   "outputs": [
    {
     "data": {
      "text/plain": [
       "\"list_data = list_data[15:]\\nlen(list_data)\\nwith h5py.File('new.rasscf.h5', 'w') as data_file:\\n    for i in range(len(f_list)-15):\\n        data_file.create_dataset(f_list[i+15], data = list_data[i])\""
      ]
     },
     "execution_count": 14,
     "metadata": {},
     "output_type": "execute_result"
    }
   ],
   "source": [
    "'''list_data = list_data[15:]\n",
    "len(list_data)\n",
    "with h5py.File('new.rasscf.h5', 'w') as data_file:\n",
    "    for i in range(len(f_list)-15):\n",
    "        data_file.create_dataset(f_list[i+15], data = list_data[i])'''"
   ]
  },
  {
   "cell_type": "code",
   "execution_count": 15,
   "id": "e167aaf3",
   "metadata": {},
   "outputs": [
    {
     "data": {
      "text/plain": [
       "\"list_data = list_data[16:]\\nlen(list_data)\\nwith h5py.File('new.rasscf.h5', 'w') as data_file:\\n    for i in range(len(f_list)-16):\\n        data_file.create_dataset(f_list[i+16], data = list_data[i])\""
      ]
     },
     "execution_count": 15,
     "metadata": {},
     "output_type": "execute_result"
    }
   ],
   "source": [
    "'''list_data = list_data[16:]\n",
    "len(list_data)\n",
    "with h5py.File('new.rasscf.h5', 'w') as data_file:\n",
    "    for i in range(len(f_list)-16):\n",
    "        data_file.create_dataset(f_list[i+16], data = list_data[i])'''"
   ]
  },
  {
   "cell_type": "code",
   "execution_count": 16,
   "id": "4d01b2a7",
   "metadata": {},
   "outputs": [
    {
     "data": {
      "text/plain": [
       "\"list_data = list_data[17:]\\nlen(list_data)\\nwith h5py.File('new.rasscf.h5', 'w') as data_file:\\n    for i in range(len(f_list)-17):\\n        data_file.create_dataset(f_list[i+17], data = list_data[i])\""
      ]
     },
     "execution_count": 16,
     "metadata": {},
     "output_type": "execute_result"
    }
   ],
   "source": [
    "'''list_data = list_data[17:]\n",
    "len(list_data)\n",
    "with h5py.File('new.rasscf.h5', 'w') as data_file:\n",
    "    for i in range(len(f_list)-17):\n",
    "        data_file.create_dataset(f_list[i+17], data = list_data[i])'''"
   ]
  },
  {
   "cell_type": "code",
   "execution_count": 17,
   "id": "056a5bd9",
   "metadata": {},
   "outputs": [
    {
     "data": {
      "text/plain": [
       "\"list_data = list_data[18:]\\nlen(list_data)\\nwith h5py.File('new.rasscf.h5', 'w') as data_file:\\n    for i in range(len(f_list)-18):\\n        data_file.create_dataset(f_list[i+18], data = list_data[i])\""
      ]
     },
     "execution_count": 17,
     "metadata": {},
     "output_type": "execute_result"
    }
   ],
   "source": [
    "'''list_data = list_data[18:]\n",
    "len(list_data)\n",
    "with h5py.File('new.rasscf.h5', 'w') as data_file:\n",
    "    for i in range(len(f_list)-18):\n",
    "        data_file.create_dataset(f_list[i+18], data = list_data[i])'''"
   ]
  },
  {
   "cell_type": "code",
   "execution_count": 18,
   "id": "ab2a81f6",
   "metadata": {},
   "outputs": [
    {
     "data": {
      "text/plain": [
       "\"list_data = list_data[19:]\\nlen(list_data)\\nwith h5py.File('new.rasscf.h5', 'w') as data_file:\\n    for i in range(len(f_list)-19):\\n        data_file.create_dataset(f_list[i+19], data = list_data[i])\""
      ]
     },
     "execution_count": 18,
     "metadata": {},
     "output_type": "execute_result"
    }
   ],
   "source": [
    "'''list_data = list_data[19:]\n",
    "len(list_data)\n",
    "with h5py.File('new.rasscf.h5', 'w') as data_file:\n",
    "    for i in range(len(f_list)-19):\n",
    "        data_file.create_dataset(f_list[i+19], data = list_data[i])'''"
   ]
  },
  {
   "cell_type": "code",
   "execution_count": 19,
   "id": "4259494a",
   "metadata": {},
   "outputs": [
    {
     "data": {
      "text/plain": [
       "\"list_data = list_data[20:]\\nlen(list_data)\\nwith h5py.File('new.rasscf.h5', 'w') as data_file:\\n    for i in range(len(f_list)-20):\\n        data_file.create_dataset(f_list[i+20], data = list_data[i])\""
      ]
     },
     "execution_count": 19,
     "metadata": {},
     "output_type": "execute_result"
    }
   ],
   "source": [
    "'''list_data = list_data[20:]\n",
    "len(list_data)\n",
    "with h5py.File('new.rasscf.h5', 'w') as data_file:\n",
    "    for i in range(len(f_list)-20):\n",
    "        data_file.create_dataset(f_list[i+20], data = list_data[i])'''"
   ]
  },
  {
   "cell_type": "code",
   "execution_count": 20,
   "id": "1c545879",
   "metadata": {},
   "outputs": [
    {
     "data": {
      "text/plain": [
       "\"list_data = list_data[21:]\\nlen(list_data)\\nwith h5py.File('new.rasscf.h5', 'w') as data_file:\\n    for i in range(len(f_list)-21):\\n        data_file.create_dataset(f_list[i+21], data = list_data[i])\""
      ]
     },
     "execution_count": 20,
     "metadata": {},
     "output_type": "execute_result"
    }
   ],
   "source": [
    "'''list_data = list_data[21:]\n",
    "len(list_data)\n",
    "with h5py.File('new.rasscf.h5', 'w') as data_file:\n",
    "    for i in range(len(f_list)-21):\n",
    "        data_file.create_dataset(f_list[i+21], data = list_data[i])'''"
   ]
  },
  {
   "cell_type": "code",
   "execution_count": 21,
   "id": "4116dfd4",
   "metadata": {},
   "outputs": [
    {
     "data": {
      "text/plain": [
       "\"list_data = list_data[22:]\\nlen(list_data)\\nwith h5py.File('new.rasscf.h5', 'w') as data_file:\\n    for i in range(len(f_list)-22):\\n        data_file.create_dataset(f_list[i+22], data = list_data[i])\""
      ]
     },
     "execution_count": 21,
     "metadata": {},
     "output_type": "execute_result"
    }
   ],
   "source": [
    "'''list_data = list_data[22:]\n",
    "len(list_data)\n",
    "with h5py.File('new.rasscf.h5', 'w') as data_file:\n",
    "    for i in range(len(f_list)-22):\n",
    "        data_file.create_dataset(f_list[i+22], data = list_data[i])'''"
   ]
  },
  {
   "cell_type": "code",
   "execution_count": 22,
   "id": "51ad5eb6",
   "metadata": {},
   "outputs": [
    {
     "data": {
      "text/plain": [
       "\"list_data = list_data[23:]\\nlen(list_data)\\nwith h5py.File('new.rasscf.h5', 'w') as data_file:\\n    for i in range(len(f_list)-23):\\n        data_file.create_dataset(f_list[i+23], data = list_data[i])\""
      ]
     },
     "execution_count": 22,
     "metadata": {},
     "output_type": "execute_result"
    }
   ],
   "source": [
    "'''list_data = list_data[23:]\n",
    "len(list_data)\n",
    "with h5py.File('new.rasscf.h5', 'w') as data_file:\n",
    "    for i in range(len(f_list)-23):\n",
    "        data_file.create_dataset(f_list[i+23], data = list_data[i])'''"
   ]
  },
  {
   "cell_type": "code",
   "execution_count": 23,
   "id": "bde10f50",
   "metadata": {},
   "outputs": [],
   "source": [
    "list_data = list_data[28:]\n",
    "len(list_data)\n",
    "with h5py.File('new.rasscf.h5', 'w') as data_file:\n",
    "    for i in range(len(f_list)-28):\n",
    "        data_file.create_dataset(f_list[i+28], data = list_data[i])"
   ]
  },
  {
   "cell_type": "code",
   "execution_count": null,
   "id": "4d54e7ff",
   "metadata": {},
   "outputs": [],
   "source": []
  }
 ],
 "metadata": {
  "kernelspec": {
   "display_name": "Python 3",
   "language": "python",
   "name": "python3"
  },
  "language_info": {
   "codemirror_mode": {
    "name": "ipython",
    "version": 3
   },
   "file_extension": ".py",
   "mimetype": "text/x-python",
   "name": "python",
   "nbconvert_exporter": "python",
   "pygments_lexer": "ipython3",
   "version": "3.8.8"
  }
 },
 "nbformat": 4,
 "nbformat_minor": 5
}
