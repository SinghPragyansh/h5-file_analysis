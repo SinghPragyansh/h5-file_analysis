{
 "cells": [
  {
   "cell_type": "code",
   "execution_count": 1,
   "id": "eac841a5",
   "metadata": {},
   "outputs": [],
   "source": [
    "import h5py"
   ]
  },
  {
   "cell_type": "code",
   "execution_count": 2,
   "id": "c0c99083",
   "metadata": {},
   "outputs": [],
   "source": [
    "f = h5py.File('835.rassi.h5', 'r')"
   ]
  },
  {
   "cell_type": "code",
   "execution_count": 3,
   "id": "8edc871a",
   "metadata": {},
   "outputs": [
    {
     "data": {
      "text/plain": [
       "<KeysViewHDF5 ['AO_MLTPL_X', 'AO_MLTPL_XX', 'AO_MLTPL_XY', 'AO_MLTPL_XZ', 'AO_MLTPL_Y', 'AO_MLTPL_YY', 'AO_MLTPL_YZ', 'AO_MLTPL_Z', 'AO_MLTPL_ZZ', 'AO_OVERLAP_MATRIX', 'BASIS_FUNCTION_IDS', 'CENTER_ATNUMS', 'CENTER_CHARGES', 'CENTER_COORDINATES', 'CENTER_LABELS', 'DESYM_BASIS_FUNCTION_IDS', 'DESYM_CENTER_ATNUMS', 'DESYM_CENTER_CHARGES', 'DESYM_CENTER_COORDINATES', 'DESYM_CENTER_LABELS', 'DESYM_MATRIX', 'MLTPL_ORIG', 'ORIGINAL_OVERLAPS', 'PRIMITIVES', 'PRIMITIVE_IDS', 'SFS_AMFIINT', 'SFS_ANGMOM', 'SFS_COEFFICIENTS', 'SFS_EDIPMOM', 'SFS_ENERGIES', 'SFS_TRANSITION_DENSITIES', 'SFS_TRANSITION_SPIN_DENSITIES', 'WFA']>"
      ]
     },
     "execution_count": 3,
     "metadata": {},
     "output_type": "execute_result"
    }
   ],
   "source": [
    "f.keys()"
   ]
  },
  {
   "cell_type": "code",
   "execution_count": 4,
   "id": "0708e345",
   "metadata": {},
   "outputs": [],
   "source": [
    "tdm = f['SFS_TRANSITION_DENSITIES']\n",
    "tdm_mat = tdm[:]"
   ]
  },
  {
   "cell_type": "code",
   "execution_count": 5,
   "id": "2f432fa8",
   "metadata": {},
   "outputs": [],
   "source": [
    "with h5py.File(\"lab.h5\", \"w\") as data_file:\n",
    "    data_file.create_dataset('SFS_TRANSITION_DENSITIES', data = tdm_mat)"
   ]
  },
  {
   "cell_type": "code",
   "execution_count": null,
   "id": "22850e7a",
   "metadata": {},
   "outputs": [],
   "source": []
  }
 ],
 "metadata": {
  "kernelspec": {
   "display_name": "Python 3",
   "language": "python",
   "name": "python3"
  },
  "language_info": {
   "codemirror_mode": {
    "name": "ipython",
    "version": 3
   },
   "file_extension": ".py",
   "mimetype": "text/x-python",
   "name": "python",
   "nbconvert_exporter": "python",
   "pygments_lexer": "ipython3",
   "version": "3.8.8"
  }
 },
 "nbformat": 4,
 "nbformat_minor": 5
}
