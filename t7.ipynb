{
 "cells": [
  {
   "cell_type": "code",
   "execution_count": 1,
   "id": "174a51b5",
   "metadata": {},
   "outputs": [],
   "source": [
    "import h5py"
   ]
  },
  {
   "cell_type": "code",
   "execution_count": 2,
   "id": "b4ee72e9",
   "metadata": {},
   "outputs": [],
   "source": [
    "f= h5py.File('t7.rasscf.h5', 'r')"
   ]
  },
  {
   "cell_type": "code",
   "execution_count": 3,
   "id": "6068b829",
   "metadata": {},
   "outputs": [
    {
     "data": {
      "text/plain": [
       "<KeysViewHDF5 ['AO_FOCKINT_MATRIX', 'AO_MLTPL_X', 'AO_MLTPL_XX', 'AO_MLTPL_XY', 'AO_MLTPL_XZ', 'AO_MLTPL_Y', 'AO_MLTPL_YY', 'AO_MLTPL_YZ', 'AO_MLTPL_Z', 'AO_MLTPL_ZZ', 'AO_OVERLAP_MATRIX', 'BASIS_FUNCTION_IDS', 'CENTER_ATNUMS', 'CENTER_CHARGES', 'CENTER_COORDINATES', 'CENTER_LABELS', 'CI_VECTORS', 'DENSITY_MATRIX', 'MLTPL_ORIG', 'MO_ENERGIES', 'MO_OCCUPATIONS', 'MO_TYPEINDICES', 'MO_VECTORS', 'PRIMITIVES', 'PRIMITIVE_IDS', 'ROOT_ENERGIES', 'SPINDENSITY_MATRIX', 'SUPSYM_IRREP_INDICES', 'WFA']>"
      ]
     },
     "execution_count": 3,
     "metadata": {},
     "output_type": "execute_result"
    }
   ],
   "source": [
    "f.keys()"
   ]
  },
  {
   "cell_type": "code",
   "execution_count": 19,
   "id": "1cf40470",
   "metadata": {},
   "outputs": [
    {
     "data": {
      "text/plain": [
       "(list, 29)"
      ]
     },
     "execution_count": 19,
     "metadata": {},
     "output_type": "execute_result"
    }
   ],
   "source": [
    "# saving the keys as the string in the f_list, so that we can call them later\n",
    "f_list = list(f.keys())\n",
    "type(f_list), len(f_list)"
   ]
  },
  {
   "cell_type": "code",
   "execution_count": 20,
   "id": "2fdef3aa",
   "metadata": {},
   "outputs": [],
   "source": [
    "k1 = f['AO_FOCKINT_MATRIX']\n",
    "k1 = k1[:]"
   ]
  },
  {
   "cell_type": "code",
   "execution_count": 32,
   "id": "72c07002",
   "metadata": {},
   "outputs": [],
   "source": [
    "list_data = []"
   ]
  },
  {
   "cell_type": "code",
   "execution_count": 33,
   "id": "46628c93",
   "metadata": {},
   "outputs": [],
   "source": [
    "# Let's open the datasets with the string as the key"
   ]
  },
  {
   "cell_type": "code",
   "execution_count": 34,
   "id": "5b8da111",
   "metadata": {},
   "outputs": [],
   "source": [
    "# 'WFA' is a goup therefore we can not open it as dataset\n",
    "for i in f_list[:-1]:\n",
    "    key = f[i]\n",
    "    list_data.append(key)"
   ]
  },
  {
   "cell_type": "code",
   "execution_count": 38,
   "id": "09eca30c",
   "metadata": {},
   "outputs": [
    {
     "data": {
      "text/plain": [
       "[<HDF5 dataset \"AO_FOCKINT_MATRIX\": shape (484,), type \"<f8\">,\n",
       " <HDF5 dataset \"AO_MLTPL_X\": shape (22, 22), type \"<f8\">,\n",
       " <HDF5 dataset \"AO_MLTPL_XX\": shape (22, 22), type \"<f8\">,\n",
       " <HDF5 dataset \"AO_MLTPL_XY\": shape (22, 22), type \"<f8\">,\n",
       " <HDF5 dataset \"AO_MLTPL_XZ\": shape (22, 22), type \"<f8\">,\n",
       " <HDF5 dataset \"AO_MLTPL_Y\": shape (22, 22), type \"<f8\">,\n",
       " <HDF5 dataset \"AO_MLTPL_YY\": shape (22, 22), type \"<f8\">,\n",
       " <HDF5 dataset \"AO_MLTPL_YZ\": shape (22, 22), type \"<f8\">,\n",
       " <HDF5 dataset \"AO_MLTPL_Z\": shape (22, 22), type \"<f8\">,\n",
       " <HDF5 dataset \"AO_MLTPL_ZZ\": shape (22, 22), type \"<f8\">,\n",
       " <HDF5 dataset \"AO_OVERLAP_MATRIX\": shape (484,), type \"<f8\">,\n",
       " <HDF5 dataset \"BASIS_FUNCTION_IDS\": shape (22, 4), type \"<i8\">,\n",
       " <HDF5 dataset \"CENTER_ATNUMS\": shape (4,), type \"<i8\">,\n",
       " <HDF5 dataset \"CENTER_CHARGES\": shape (4,), type \"<f8\">,\n",
       " <HDF5 dataset \"CENTER_COORDINATES\": shape (4, 3), type \"<f8\">,\n",
       " <HDF5 dataset \"CENTER_LABELS\": shape (4,), type \"|S6\">,\n",
       " <HDF5 dataset \"CI_VECTORS\": shape (3, 105), type \"<f8\">,\n",
       " <HDF5 dataset \"DENSITY_MATRIX\": shape (3, 6, 6), type \"<f8\">,\n",
       " <HDF5 dataset \"MLTPL_ORIG\": shape (3, 3), type \"<f8\">,\n",
       " <HDF5 dataset \"MO_ENERGIES\": shape (22,), type \"<f8\">,\n",
       " <HDF5 dataset \"MO_OCCUPATIONS\": shape (22,), type \"<f8\">,\n",
       " <HDF5 dataset \"MO_TYPEINDICES\": shape (22,), type \"|S1\">,\n",
       " <HDF5 dataset \"MO_VECTORS\": shape (484,), type \"<f8\">,\n",
       " <HDF5 dataset \"PRIMITIVES\": shape (92, 2), type \"<f8\">,\n",
       " <HDF5 dataset \"PRIMITIVE_IDS\": shape (92, 3), type \"<i8\">,\n",
       " <HDF5 dataset \"ROOT_ENERGIES\": shape (3,), type \"<f8\">,\n",
       " <HDF5 dataset \"SPINDENSITY_MATRIX\": shape (3, 6, 6), type \"<f8\">,\n",
       " <HDF5 dataset \"SUPSYM_IRREP_INDICES\": shape (22,), type \"<i8\">]"
      ]
     },
     "execution_count": 38,
     "metadata": {},
     "output_type": "execute_result"
    }
   ],
   "source": [
    "list_data"
   ]
  },
  {
   "cell_type": "code",
   "execution_count": null,
   "id": "b128db0b",
   "metadata": {},
   "outputs": [],
   "source": []
  }
 ],
 "metadata": {
  "kernelspec": {
   "display_name": "Python 3",
   "language": "python",
   "name": "python3"
  },
  "language_info": {
   "codemirror_mode": {
    "name": "ipython",
    "version": 3
   },
   "file_extension": ".py",
   "mimetype": "text/x-python",
   "name": "python",
   "nbconvert_exporter": "python",
   "pygments_lexer": "ipython3",
   "version": "3.8.8"
  }
 },
 "nbformat": 4,
 "nbformat_minor": 5
}
