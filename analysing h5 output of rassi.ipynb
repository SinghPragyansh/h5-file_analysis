{
 "cells": [
  {
   "cell_type": "code",
   "execution_count": 1,
   "id": "6a405b04",
   "metadata": {},
   "outputs": [],
   "source": [
    "import h5py\n",
    "import numpy as np"
   ]
  },
  {
   "cell_type": "code",
   "execution_count": 4,
   "id": "cb78bca3",
   "metadata": {},
   "outputs": [
    {
     "name": "stdout",
     "output_type": "stream",
     "text": [
      "['AO_MLTPL_X', 'AO_MLTPL_XX', 'AO_MLTPL_XY', 'AO_MLTPL_XZ', 'AO_MLTPL_Y', 'AO_MLTPL_YY', 'AO_MLTPL_YZ', 'AO_MLTPL_Z', 'AO_MLTPL_ZZ', 'AO_OVERLAP_MATRIX', 'BASIS_FUNCTION_IDS', 'CENTER_ATNUMS', 'CENTER_CHARGES', 'CENTER_COORDINATES', 'CENTER_LABELS', 'DESYM_BASIS_FUNCTION_IDS', 'DESYM_CENTER_ATNUMS', 'DESYM_CENTER_CHARGES', 'DESYM_CENTER_COORDINATES', 'DESYM_CENTER_LABELS', 'DESYM_MATRIX', 'MLTPL_ORIG', 'ORIGINAL_OVERLAPS', 'PRIMITIVES', 'PRIMITIVE_IDS', 'SFS_AMFIINT', 'SFS_ANGMOM', 'SFS_COEFFICIENTS', 'SFS_EDIPMOM', 'SFS_ENERGIES', 'SFS_TRANSITION_DENSITIES', 'SFS_TRANSITION_SPIN_DENSITIES', 'WFA']\n"
     ]
    }
   ],
   "source": [
    "f1 = h5py.File('835.rassi.h5', 'r')\n",
    "print(list(f1.keys()))"
   ]
  },
  {
   "cell_type": "code",
   "execution_count": 5,
   "id": "3b380116",
   "metadata": {},
   "outputs": [
    {
     "data": {
      "text/plain": [
       "(4,)"
      ]
     },
     "execution_count": 5,
     "metadata": {},
     "output_type": "execute_result"
    }
   ],
   "source": [
    "sfs_energy = f1['SFS_ENERGIES']\n",
    "sfs_energy.shape"
   ]
  },
  {
   "cell_type": "code",
   "execution_count": 6,
   "id": "c213e328",
   "metadata": {},
   "outputs": [
    {
     "data": {
      "text/plain": [
       "(74,)"
      ]
     },
     "execution_count": 6,
     "metadata": {},
     "output_type": "execute_result"
    }
   ],
   "source": [
    "ao_overlap = f1['AO_OVERLAP_MATRIX']\n",
    "ao_overlap.shape"
   ]
  },
  {
   "cell_type": "code",
   "execution_count": 15,
   "id": "9a8a4ce5",
   "metadata": {},
   "outputs": [
    {
     "name": "stdout",
     "output_type": "stream",
     "text": [
      "[0.         0.         0.         0.         0.         0.\n",
      " 0.         0.07185549 0.         0.00315933 0.         0.        ]\n",
      "[3.10650895e-02 2.63532873e-02 0.00000000e+00 9.54817070e-08\n",
      " 3.83689997e-03 6.24340474e-03 8.71347455e-03 0.00000000e+00\n",
      " 0.00000000e+00 0.00000000e+00 0.00000000e+00 0.00000000e+00]\n"
     ]
    },
    {
     "data": {
      "text/plain": [
       "(None, None)"
      ]
     },
     "execution_count": 15,
     "metadata": {},
     "output_type": "execute_result"
    }
   ],
   "source": [
    "AO_MLTP_XX = f1['AO_MLTPL_XX']\n",
    "AO_MLTP_X = f1['AO_MLTPL_X']\n",
    "#print(data[:])\n",
    "AO_MLTP_XX.shape, AO_MLTP_X.shape\n",
    "'''if AO_MLTP_XX[:].all() == AO_MLTP_X[:].all():\n",
    "    print(\"same\")'''\n",
    "print(AO_MLTP_X[0]), print(AO_MLTP_XX[0])"
   ]
  },
  {
   "cell_type": "code",
   "execution_count": 7,
   "id": "44724ce2",
   "metadata": {},
   "outputs": [
    {
     "name": "stdout",
     "output_type": "stream",
     "text": [
      "(4, 4, 74)\n",
      "[[[ 2.07151887e+00 -2.18130433e-01 -1.13647957e-02 ... -1.59364296e-16\n",
      "   -5.04186627e-01  8.64272125e-01]\n",
      "  [ 4.83526006e-17 -2.74321069e-16  2.80478273e-16 ... -3.83868990e-01\n",
      "    1.45723148e-16 -5.35652404e-17]\n",
      "  [-6.16502245e-34  4.17437193e-33 -3.91041456e-33 ...  0.00000000e+00\n",
      "    0.00000000e+00  0.00000000e+00]\n",
      "  [ 6.73821989e-20 -1.80894262e-19  2.61247005e-19 ... -1.10408314e-58\n",
      "    4.37361661e-45 -1.55604285e-45]]\n",
      "\n",
      " [[ 0.00000000e+00  0.00000000e+00  0.00000000e+00 ...  0.00000000e+00\n",
      "    0.00000000e+00  0.00000000e+00]\n",
      "  [ 2.06978762e+00 -2.09984858e-01 -2.02460133e-02 ...  7.59863434e-16\n",
      "   -1.65185806e-01  7.40881560e-01]\n",
      "  [-6.97074248e-19  1.59795398e-18 -2.53764169e-18 ... -4.61425175e-33\n",
      "    6.94104386e-44 -2.46946152e-44]\n",
      "  [ 5.17894630e-34 -3.50669413e-33  3.28495592e-33 ...  5.85302059e-44\n",
      "   -2.19979094e-30  7.82640381e-31]]\n",
      "\n",
      " [[ 0.00000000e+00  0.00000000e+00  0.00000000e+00 ...  0.00000000e+00\n",
      "    0.00000000e+00  0.00000000e+00]\n",
      "  [ 0.00000000e+00  0.00000000e+00  0.00000000e+00 ...  0.00000000e+00\n",
      "    0.00000000e+00  0.00000000e+00]\n",
      "  [ 2.06878763e+00 -2.05763608e-01 -2.16278839e-02 ...  8.13477763e-16\n",
      "   -1.50630082e-01  7.33347014e-01]\n",
      "  [ 3.62632744e-17 -1.35990492e-16  1.32767524e-16 ... -7.00432738e-05\n",
      "   -1.05537142e-15  3.90160875e-16]]\n",
      "\n",
      " [[ 0.00000000e+00  0.00000000e+00  0.00000000e+00 ...  0.00000000e+00\n",
      "    0.00000000e+00  0.00000000e+00]\n",
      "  [ 0.00000000e+00  0.00000000e+00  0.00000000e+00 ...  0.00000000e+00\n",
      "    0.00000000e+00  0.00000000e+00]\n",
      "  [ 0.00000000e+00  0.00000000e+00  0.00000000e+00 ...  0.00000000e+00\n",
      "    0.00000000e+00  0.00000000e+00]\n",
      "  [ 2.07069549e+00 -2.14169712e-01 -1.21792300e-02 ... -1.70082289e-15\n",
      "   -4.91072682e-01  8.57763204e-01]]]\n"
     ]
    }
   ],
   "source": [
    "tdm = f1['SFS_TRANSITION_DENSITIES']\n",
    "print(tdm.shape)\n",
    "print(tdm[:])\n",
    "#type(tdm)\n"
   ]
  },
  {
   "cell_type": "code",
   "execution_count": 5,
   "id": "343b0b6b",
   "metadata": {},
   "outputs": [
    {
     "name": "stdout",
     "output_type": "stream",
     "text": [
      "[array([0.        , 0.        , 1.11918841]), array([ 0.       ,  0.       , -1.1250938]), array([0.        , 1.74780958, 2.2123534 ])] \n",
      "\n",
      "[[ 0.          0.          1.11918841]\n",
      " [ 0.          0.         -1.1250938 ]\n",
      " [ 0.          1.74780958  2.2123534 ]]\n"
     ]
    }
   ],
   "source": [
    "center_coordinates = f1['CENTER_COORDINATES']\n",
    "print(list(center_coordinates),\"\\n\")\n",
    "print(center_coordinates[:])"
   ]
  },
  {
   "cell_type": "code",
   "execution_count": 6,
   "id": "87162098",
   "metadata": {},
   "outputs": [
    {
     "name": "stdout",
     "output_type": "stream",
     "text": [
      "[b'C1    ', b'O3    ', b'H5    ']\n"
     ]
    }
   ],
   "source": [
    "center_labels = f1['CENTER_LABELS']\n",
    "print(list(center_labels)) "
   ]
  },
  {
   "cell_type": "code",
   "execution_count": 37,
   "id": "f52ecc09",
   "metadata": {},
   "outputs": [
    {
     "name": "stdout",
     "output_type": "stream",
     "text": [
      "<HDF5 group \"/WFA\" (20 members)>\n"
     ]
    },
    {
     "data": {
      "text/plain": [
       "['DESYM_S0_NDO_OCCUPATIONS',\n",
       " 'DESYM_S0_NDO_VECTORS',\n",
       " 'DESYM_S0_NO_OCCUPATIONS',\n",
       " 'DESYM_S0_NO_VECTORS',\n",
       " 'DESYM_S1-S0_NTO_OCCUPATIONS',\n",
       " 'DESYM_S1-S0_NTO_VECTORS',\n",
       " 'DESYM_S1-T1_NTO_OCCUPATIONS',\n",
       " 'DESYM_S1-T1_NTO_VECTORS',\n",
       " 'DESYM_S1-T2_NTO_OCCUPATIONS',\n",
       " 'DESYM_S1-T2_NTO_VECTORS',\n",
       " 'DESYM_S1_NO_OCCUPATIONS',\n",
       " 'DESYM_S1_NO_VECTORS',\n",
       " 'DESYM_T1_NDO_OCCUPATIONS',\n",
       " 'DESYM_T1_NDO_VECTORS',\n",
       " 'DESYM_T1_NO_OCCUPATIONS',\n",
       " 'DESYM_T1_NO_VECTORS',\n",
       " 'DESYM_T2_NDO_OCCUPATIONS',\n",
       " 'DESYM_T2_NDO_VECTORS',\n",
       " 'DESYM_T2_NO_OCCUPATIONS',\n",
       " 'DESYM_T2_NO_VECTORS']"
      ]
     },
     "execution_count": 37,
     "metadata": {},
     "output_type": "execute_result"
    }
   ],
   "source": [
    "wfa = f1['WFA']\n",
    "print(wfa)\n",
    "# hence wfa is a group, contains all the info of wfa cal, like NDO, NTO etc \n",
    "wfa_group_mem = list(wfa)\n",
    "wfa_group_mem"
   ]
  },
  {
   "cell_type": "code",
   "execution_count": 36,
   "id": "fdd5227b",
   "metadata": {},
   "outputs": [
    {
     "data": {
      "text/plain": [
       "array([-7.04489341e-04, -8.60021241e-01,  8.60021241e-01,  7.04489341e-04])"
      ]
     },
     "execution_count": 36,
     "metadata": {},
     "output_type": "execute_result"
    }
   ],
   "source": [
    "s0_t1_nto_occ = wfa['DESYM_S1-S0_NTO_OCCUPATIONS']\n",
    "s0_t1_nto_occ[:]"
   ]
  },
  {
   "cell_type": "code",
   "execution_count": 23,
   "id": "30deeead",
   "metadata": {},
   "outputs": [
    {
     "data": {
      "text/plain": [
       "(5,)"
      ]
     },
     "execution_count": 23,
     "metadata": {},
     "output_type": "execute_result"
    }
   ],
   "source": [
    "s0_NDO_occ = wfa['DESYM_S0_NDO_OCCUPATIONS']\n",
    "s0_NDO_occ.shape"
   ]
  },
  {
   "cell_type": "code",
   "execution_count": 8,
   "id": "572f8e54",
   "metadata": {},
   "outputs": [],
   "source": [
    "#data_matrix = np.random.uniform(-1, 1, size=(10, 3))\n",
    "data_mat = np.random.randn(296)\n",
    "data_mat = data_mat.reshape((2,2,74))\n",
    "\n",
    "# Write data to HDF5\n",
    "with h5py.File(\"lab.h5\", \"w\") as data_file:\n",
    "    data_file.create_dataset(\"dataset_name\", data=data_mat)"
   ]
  },
  {
   "cell_type": "code",
   "execution_count": 9,
   "id": "c3f2de47",
   "metadata": {},
   "outputs": [
    {
     "data": {
      "text/plain": [
       "['dataset_name']"
      ]
     },
     "execution_count": 9,
     "metadata": {},
     "output_type": "execute_result"
    }
   ],
   "source": [
    "lab_file = h5py.File('lab.h5', 'r')\n",
    "list(lab_file.keys())"
   ]
  },
  {
   "cell_type": "code",
   "execution_count": 12,
   "id": "f484ea2d",
   "metadata": {},
   "outputs": [
    {
     "data": {
      "text/plain": [
       "((2, 2, 74), h5py._hl.dataset.Dataset)"
      ]
     },
     "execution_count": 12,
     "metadata": {},
     "output_type": "execute_result"
    }
   ],
   "source": [
    "matrix = lab_file['dataset_name']\n",
    "matrix.shape, type(matrix)"
   ]
  },
  {
   "cell_type": "code",
   "execution_count": null,
   "id": "c7530d80",
   "metadata": {},
   "outputs": [],
   "source": []
  },
  {
   "cell_type": "code",
   "execution_count": 3,
   "id": "de8db1a9",
   "metadata": {},
   "outputs": [
    {
     "name": "stdout",
     "output_type": "stream",
     "text": [
      "['AO_FOCKINT_MATRIX', 'AO_MLTPL_X', 'AO_MLTPL_XX', 'AO_MLTPL_XY', 'AO_MLTPL_XZ', 'AO_MLTPL_Y', 'AO_MLTPL_YY', 'AO_MLTPL_YZ', 'AO_MLTPL_Z', 'AO_MLTPL_ZZ', 'AO_OVERLAP_MATRIX', 'BASIS_FUNCTION_IDS', 'CENTER_ATNUMS', 'CENTER_CHARGES', 'CENTER_COORDINATES', 'CENTER_LABELS', 'CI_VECTORS', 'DENSITY_MATRIX', 'MLTPL_ORIG', 'MO_ENERGIES', 'MO_OCCUPATIONS', 'MO_TYPEINDICES', 'MO_VECTORS', 'PRIMITIVES', 'PRIMITIVE_IDS', 'ROOT_ENERGIES', 'SPINDENSITY_MATRIX', 'SUPSYM_IRREP_INDICES']\n"
     ]
    }
   ],
   "source": [
    "f7 = h5py.File('t7.rasscf.h5', 'r')\n",
    "print(list(f7.keys()))"
   ]
  },
  {
   "cell_type": "code",
   "execution_count": null,
   "id": "9a9c2db2",
   "metadata": {},
   "outputs": [],
   "source": []
  }
 ],
 "metadata": {
  "kernelspec": {
   "display_name": "Python 3",
   "language": "python",
   "name": "python3"
  },
  "language_info": {
   "codemirror_mode": {
    "name": "ipython",
    "version": 3
   },
   "file_extension": ".py",
   "mimetype": "text/x-python",
   "name": "python",
   "nbconvert_exporter": "python",
   "pygments_lexer": "ipython3",
   "version": "3.8.8"
  }
 },
 "nbformat": 4,
 "nbformat_minor": 5
}
