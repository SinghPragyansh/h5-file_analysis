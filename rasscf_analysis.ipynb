{
 "cells": [
  {
   "cell_type": "code",
   "execution_count": 1,
   "id": "a3abcc30",
   "metadata": {},
   "outputs": [],
   "source": [
    "import h5py"
   ]
  },
  {
   "cell_type": "code",
   "execution_count": 2,
   "id": "5560c493",
   "metadata": {},
   "outputs": [],
   "source": [
    "f = h5py.File('835.rasscf.h5', 'r')"
   ]
  },
  {
   "cell_type": "code",
   "execution_count": 3,
   "id": "762fc272",
   "metadata": {},
   "outputs": [
    {
     "name": "stdout",
     "output_type": "stream",
     "text": [
      "['AO_FOCKINT_MATRIX', 'AO_MLTPL_X', 'AO_MLTPL_XX', 'AO_MLTPL_XY', 'AO_MLTPL_XZ', 'AO_MLTPL_Y', 'AO_MLTPL_YY', 'AO_MLTPL_YZ', 'AO_MLTPL_Z', 'AO_MLTPL_ZZ', 'AO_OVERLAP_MATRIX', 'BASIS_FUNCTION_IDS', 'CENTER_ATNUMS', 'CENTER_CHARGES', 'CENTER_COORDINATES', 'CENTER_LABELS', 'CI_VECTORS', 'DENSITY_MATRIX', 'DESYM_BASIS_FUNCTION_IDS', 'DESYM_CENTER_ATNUMS', 'DESYM_CENTER_CHARGES', 'DESYM_CENTER_COORDINATES', 'DESYM_CENTER_LABELS', 'DESYM_MATRIX', 'MLTPL_ORIG', 'MO_ENERGIES', 'MO_OCCUPATIONS', 'MO_TYPEINDICES', 'MO_VECTORS', 'PRIMITIVES', 'PRIMITIVE_IDS', 'ROOT_ENERGIES', 'SPINDENSITY_MATRIX', 'SUPSYM_IRREP_INDICES', 'WFA']\n"
     ]
    }
   ],
   "source": [
    "print(list(f.keys()))"
   ]
  },
  {
   "cell_type": "code",
   "execution_count": 14,
   "id": "23c30109",
   "metadata": {},
   "outputs": [
    {
     "name": "stdout",
     "output_type": "stream",
     "text": [
      "<HDF5 dataset \"SPINDENSITY_MATRIX\": shape (2, 5, 5), type \"<f8\">\n"
     ]
    }
   ],
   "source": [
    "spin_density_matrix = f['SPINDENSITY_MATRIX']\n",
    "print(spin_density_matrix)"
   ]
  },
  {
   "cell_type": "code",
   "execution_count": 15,
   "id": "395ae6f3",
   "metadata": {},
   "outputs": [
    {
     "name": "stdout",
     "output_type": "stream",
     "text": [
      "[-112.28953498394569, -112.19496822726649]\n"
     ]
    }
   ],
   "source": [
    "root_energies = f['ROOT_ENERGIES']\n",
    "print(list(root_energies))"
   ]
  },
  {
   "cell_type": "code",
   "execution_count": 17,
   "id": "5d2238df",
   "metadata": {},
   "outputs": [
    {
     "name": "stdout",
     "output_type": "stream",
     "text": [
      "['DESYM_1(3)A_NO_ALPHA_OCCUPATIONS', 'DESYM_1(3)A_NO_ALPHA_VECTORS', 'DESYM_1(3)A_NO_BETA_OCCUPATIONS', 'DESYM_1(3)A_NO_BETA_VECTORS', 'DESYM_2(3)A_NDO_ALPHA_OCCUPATIONS', 'DESYM_2(3)A_NDO_ALPHA_VECTORS', 'DESYM_2(3)A_NDO_BETA_OCCUPATIONS', 'DESYM_2(3)A_NDO_BETA_VECTORS', 'DESYM_2(3)A_NO_ALPHA_OCCUPATIONS', 'DESYM_2(3)A_NO_ALPHA_VECTORS', 'DESYM_2(3)A_NO_BETA_OCCUPATIONS', 'DESYM_2(3)A_NO_BETA_VECTORS']\n"
     ]
    }
   ],
   "source": [
    "wfa = f['WFA']\n",
    "print(list(wfa))"
   ]
  },
  {
   "cell_type": "code",
   "execution_count": 19,
   "id": "282cd5ba",
   "metadata": {},
   "outputs": [
    {
     "name": "stdout",
     "output_type": "stream",
     "text": [
      "<HDF5 dataset \"AO_OVERLAP_MATRIX\": shape (74,), type \"<f8\">\n"
     ]
    }
   ],
   "source": [
    "ao_overlap_mat = f['AO_OVERLAP_MATRIX']\n",
    "print(ao_overlap_mat)"
   ]
  },
  {
   "cell_type": "code",
   "execution_count": 22,
   "id": "a9cbf897",
   "metadata": {},
   "outputs": [
    {
     "name": "stdout",
     "output_type": "stream",
     "text": [
      "[-20.35466839 -11.05015462  -1.09126343  -0.77746337   0.\n",
      "   0.           0.70000953  -0.59319128   0.           0.\n",
      "   0.           0.78290271]\n"
     ]
    }
   ],
   "source": [
    "mo_energies = f['MO_ENERGIES']\n",
    "print(mo_energies[:])"
   ]
  },
  {
   "cell_type": "code",
   "execution_count": null,
   "id": "0fad9e0d",
   "metadata": {},
   "outputs": [],
   "source": []
  }
 ],
 "metadata": {
  "kernelspec": {
   "display_name": "Python 3",
   "language": "python",
   "name": "python3"
  },
  "language_info": {
   "codemirror_mode": {
    "name": "ipython",
    "version": 3
   },
   "file_extension": ".py",
   "mimetype": "text/x-python",
   "name": "python",
   "nbconvert_exporter": "python",
   "pygments_lexer": "ipython3",
   "version": "3.8.8"
  }
 },
 "nbformat": 4,
 "nbformat_minor": 5
}
